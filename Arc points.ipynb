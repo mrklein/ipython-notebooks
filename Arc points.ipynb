{
 "cells": [
  {
   "cell_type": "code",
   "execution_count": 15,
   "id": "a72a1c1e",
   "metadata": {},
   "outputs": [
    {
     "data": {
      "image/png": "[encoded data removed]",
      "text/plain": [
       "<Figure size 432x288 with 1 Axes>"
      ]
     },
     "metadata": {
      "needs_background": "light"
     },
     "output_type": "display_data"
    }
   ],
   "source": [
    "import numpy as np\n",
    "\n",
    "D = 12\n",
    "R = -0.0254*D/2.0;\n",
    "\n",
    "radial = np.array([R, 0, 0])\n",
    "normal = np.array([0, 0, 1])\n",
    "centre = np.array([0, 0, 0])\n",
    "\n",
    "axis1 = radial - normal*np.dot(radial, normal)\n",
    "axis2 = np.cross(normal, axis1)\n",
    "\n",
    "start = -3.141592653589793\n",
    "end = 1.570796326794897\n",
    "N = 956\n",
    "\n",
    "points = []\n",
    "x = np.zeros((N,))\n",
    "y = np.zeros((N,))\n",
    "for i in range(N):\n",
    "    t = float(i)/(N - 1)\n",
    "    theta = (1 - t)*start + t*end\n",
    "    c = np.cos(theta)\n",
    "    s = np.sin(theta)\n",
    "    pt = centre + c*axis1 + s*axis2\n",
    "    x[i] = pt[0]\n",
    "    y[i] = pt[1]\n",
    "    points.append(pt)\n",
    "\n",
    "import matplotlib.pyplot as plt\n",
    "plt.plot(x, y, '.k')\n",
    "plt.gca().set_aspect('equal')"
   ]
  },
  {
   "cell_type": "code",
   "execution_count": 16,
   "id": "e9351daf",
   "metadata": {},
   "outputs": [
    {
     "data": {
      "image/png": "[encoded data removed]",
      "text/plain": [
       "<Figure size 432x288 with 1 Axes>"
      ]
     },
     "metadata": {
      "needs_background": "light"
     },
     "output_type": "display_data"
    }
   ],
   "source": [
    "import numpy as np\n",
    "\n",
    "D = 12\n",
    "R = 0.0254*D/2.0;\n",
    "\n",
    "radial = np.array([R, 0, 0])\n",
    "normal = np.array([0, 0, 1])\n",
    "centre = np.array([0, 0, 0])\n",
    "\n",
    "axis1 = radial - normal*np.dot(radial, normal)\n",
    "axis2 = np.cross(normal, axis1)\n",
    "\n",
    "start = 1.570796326794897\n",
    "end = 3.141592653589793\n",
    "N = 956\n",
    "\n",
    "points = []\n",
    "x = np.zeros((N,))\n",
    "y = np.zeros((N,))\n",
    "for i in range(N):\n",
    "    t = float(i)/(N - 1)\n",
    "    theta = (1 - t)*start + t*end\n",
    "    c = np.cos(theta)\n",
    "    s = np.sin(theta)\n",
    "    pt = centre + c*axis1 + s*axis2\n",
    "    x[i] = pt[0]\n",
    "    y[i] = pt[1]\n",
    "    points.append(pt)\n",
    "    \n",
    "import matplotlib.pyplot as plt\n",
    "plt.plot(x, y, '.k')\n",
    "plt.gca().set_aspect('equal')"
   ]
  },
  {
   "cell_type": "code",
   "execution_count": null,
   "id": "0efa689b",
   "metadata": {},
   "outputs": [],
   "source": []
  }
 ],
 "metadata": {
  "kernelspec": {
   "display_name": "Python 3",
   "language": "python",
   "name": "python3"
  },
  "language_info": {
   "codemirror_mode": {
    "name": "ipython",
    "version": 3
   },
   "file_extension": ".py",
   "mimetype": "text/x-python",
   "name": "python",
   "nbconvert_exporter": "python",
   "pygments_lexer": "ipython3",
   "version": "3.7.10"
  }
 },
 "nbformat": 4,
 "nbformat_minor": 5
}
