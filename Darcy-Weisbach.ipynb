{
 "metadata": {
  "name": "",
  "signature": "sha256:3ddda9bf4801dcc09602ecdf5cb6e7c6c84e0e30bf84b4c685a62c50bf49cbac"
 },
 "nbformat": 3,
 "nbformat_minor": 0,
 "worksheets": [
  {
   "cells": [
    {
     "cell_type": "code",
     "collapsed": false,
     "input": [
      "L = 5\n",
      "d = 0.02\n",
      "\n",
      "nu = 1e-6\n",
      "rho = 1000\n",
      "\n",
      "u = 0.001\n",
      "\n",
      "Re = u*d/nu\n",
      "\n",
      "print \"Re = %f\" % Re\n",
      "\n",
      "f = 64.0/Re\n",
      "\n",
      "dp = 0.5*f*rho*u*u*L/d\n",
      "\n",
      "print \"dp = %f Pa\" % dp"
     ],
     "language": "python",
     "metadata": {},
     "outputs": [
      {
       "output_type": "stream",
       "stream": "stdout",
       "text": [
        "Re = 20.000000\n",
        "dp = 0.400000 Pa\n"
       ]
      }
     ],
     "prompt_number": 5
    }
   ],
   "metadata": {}
  }
 ]
}